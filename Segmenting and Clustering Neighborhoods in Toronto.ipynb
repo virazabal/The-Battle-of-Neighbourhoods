{
    "cells": [
        {
            "cell_type": "markdown",
            "metadata": {
                "collapsed": true
            },
            "source": "# Segmenting and Clustering Neighborhoods in Toronto"
        },
        {
            "cell_type": "markdown",
            "metadata": {},
            "source": "This notebook will fullfill the Applied Data Sience Capstone week 3 final assignment"
        },
        {
            "cell_type": "markdown",
            "metadata": {},
            "source": "## Part 1: Scraping and obtaining dataframe"
        },
        {
            "cell_type": "code",
            "execution_count": 1,
            "metadata": {},
            "outputs": [],
            "source": "import pandas as pd \nimport requests \nfrom bs4 import BeautifulSoup "
        },
        {
            "cell_type": "markdown",
            "metadata": {},
            "source": "### Extracting the data from the Wikipedia page to a pandas dataframe using BeautifulSoup"
        },
        {
            "cell_type": "code",
            "execution_count": 2,
            "metadata": {},
            "outputs": [],
            "source": "req = requests.get(\"https://en.wikipedia.org/wiki/List_of_postal_codes_of_Canada:_M\") \nsoup = BeautifulSoup(req.content,'lxml') \ntable = soup.find_all('table')[0]  \ndf = pd.read_html(str(table)) "
        },
        {
            "cell_type": "code",
            "execution_count": 3,
            "metadata": {},
            "outputs": [
                {
                    "data": {
                        "text/html": "<div>\n<style scoped>\n    .dataframe tbody tr th:only-of-type {\n        vertical-align: middle;\n    }\n\n    .dataframe tbody tr th {\n        vertical-align: top;\n    }\n\n    .dataframe thead th {\n        text-align: right;\n    }\n</style>\n<table border=\"1\" class=\"dataframe\">\n  <thead>\n    <tr style=\"text-align: right;\">\n      <th></th>\n      <th>0</th>\n      <th>1</th>\n      <th>2</th>\n      <th>3</th>\n      <th>4</th>\n      <th>5</th>\n      <th>6</th>\n      <th>7</th>\n      <th>8</th>\n    </tr>\n  </thead>\n  <tbody>\n    <tr>\n      <th>0</th>\n      <td>M1ANot assigned</td>\n      <td>M2ANot assigned</td>\n      <td>M3ANorth York(Parkwoods)</td>\n      <td>M4ANorth York(Victoria Village)</td>\n      <td>M5ADowntown Toronto(Regent Park / Harbourfront)</td>\n      <td>M6ANorth York(Lawrence Manor / Lawrence Heights)</td>\n      <td>M7AQueen's Park(Ontario Provincial Government)</td>\n      <td>M8ANot assigned</td>\n      <td>M9AEtobicoke(Islington Avenue)</td>\n    </tr>\n    <tr>\n      <th>1</th>\n      <td>M1BScarborough(Malvern / Rouge)</td>\n      <td>M2BNot assigned</td>\n      <td>M3BNorth York(Don Mills)North</td>\n      <td>M4BEast York(Parkview Hill / Woodbine Gardens)</td>\n      <td>M5BDowntown Toronto(Garden District, Ryerson)</td>\n      <td>M6BNorth York(Glencairn)</td>\n      <td>M7BNot assigned</td>\n      <td>M8BNot assigned</td>\n      <td>M9BEtobicoke(West Deane Park / Princess Garden...</td>\n    </tr>\n    <tr>\n      <th>2</th>\n      <td>M1CScarborough(Rouge Hill / Port Union / Highl...</td>\n      <td>M2CNot assigned</td>\n      <td>M3CNorth York(Don Mills)South(Flemingdon Park)</td>\n      <td>M4CEast York(Woodbine Heights)</td>\n      <td>M5CDowntown Toronto(St. James Town)</td>\n      <td>M6CYork(Humewood-Cedarvale)</td>\n      <td>M7CNot assigned</td>\n      <td>M8CNot assigned</td>\n      <td>M9CEtobicoke(Eringate / Bloordale Gardens / Ol...</td>\n    </tr>\n    <tr>\n      <th>3</th>\n      <td>M1EScarborough(Guildwood / Morningside / West ...</td>\n      <td>M2ENot assigned</td>\n      <td>M3ENot assigned</td>\n      <td>M4EEast Toronto(The Beaches)</td>\n      <td>M5EDowntown Toronto(Berczy Park)</td>\n      <td>M6EYork(Caledonia-Fairbanks)</td>\n      <td>M7ENot assigned</td>\n      <td>M8ENot assigned</td>\n      <td>M9ENot assigned</td>\n    </tr>\n    <tr>\n      <th>4</th>\n      <td>M1GScarborough(Woburn)</td>\n      <td>M2GNot assigned</td>\n      <td>M3GNot assigned</td>\n      <td>M4GEast York(Leaside)</td>\n      <td>M5GDowntown Toronto(Central Bay Street)</td>\n      <td>M6GDowntown Toronto(Christie)</td>\n      <td>M7GNot assigned</td>\n      <td>M8GNot assigned</td>\n      <td>M9GNot assigned</td>\n    </tr>\n  </tbody>\n</table>\n</div>",
                        "text/plain": "                                                   0                1  \\\n0                                    M1ANot assigned  M2ANot assigned   \n1                    M1BScarborough(Malvern / Rouge)  M2BNot assigned   \n2  M1CScarborough(Rouge Hill / Port Union / Highl...  M2CNot assigned   \n3  M1EScarborough(Guildwood / Morningside / West ...  M2ENot assigned   \n4                             M1GScarborough(Woburn)  M2GNot assigned   \n\n                                                2  \\\n0                        M3ANorth York(Parkwoods)   \n1                   M3BNorth York(Don Mills)North   \n2  M3CNorth York(Don Mills)South(Flemingdon Park)   \n3                                 M3ENot assigned   \n4                                 M3GNot assigned   \n\n                                                3  \\\n0                 M4ANorth York(Victoria Village)   \n1  M4BEast York(Parkview Hill / Woodbine Gardens)   \n2                  M4CEast York(Woodbine Heights)   \n3                    M4EEast Toronto(The Beaches)   \n4                           M4GEast York(Leaside)   \n\n                                                 4  \\\n0  M5ADowntown Toronto(Regent Park / Harbourfront)   \n1    M5BDowntown Toronto(Garden District, Ryerson)   \n2              M5CDowntown Toronto(St. James Town)   \n3                 M5EDowntown Toronto(Berczy Park)   \n4          M5GDowntown Toronto(Central Bay Street)   \n\n                                                  5  \\\n0  M6ANorth York(Lawrence Manor / Lawrence Heights)   \n1                          M6BNorth York(Glencairn)   \n2                       M6CYork(Humewood-Cedarvale)   \n3                      M6EYork(Caledonia-Fairbanks)   \n4                     M6GDowntown Toronto(Christie)   \n\n                                                6                7  \\\n0  M7AQueen's Park(Ontario Provincial Government)  M8ANot assigned   \n1                                 M7BNot assigned  M8BNot assigned   \n2                                 M7CNot assigned  M8CNot assigned   \n3                                 M7ENot assigned  M8ENot assigned   \n4                                 M7GNot assigned  M8GNot assigned   \n\n                                                   8  \n0                     M9AEtobicoke(Islington Avenue)  \n1  M9BEtobicoke(West Deane Park / Princess Garden...  \n2  M9CEtobicoke(Eringate / Bloordale Gardens / Ol...  \n3                                    M9ENot assigned  \n4                                    M9GNot assigned  "
                    },
                    "execution_count": 3,
                    "metadata": {},
                    "output_type": "execute_result"
                }
            ],
            "source": "neighborhood=pd.DataFrame(df[0]) \nneighborhood.head()"
        },
        {
            "cell_type": "markdown",
            "metadata": {},
            "source": "### Filtering \"Not Assigned values\" and extracting \"PostalCode\", \"Borough\" and \"Neighbourhood\" into a new dataframe"
        },
        {
            "cell_type": "code",
            "execution_count": 4,
            "metadata": {},
            "outputs": [
                {
                    "data": {
                        "text/html": "<div>\n<style scoped>\n    .dataframe tbody tr th:only-of-type {\n        vertical-align: middle;\n    }\n\n    .dataframe tbody tr th {\n        vertical-align: top;\n    }\n\n    .dataframe thead th {\n        text-align: right;\n    }\n</style>\n<table border=\"1\" class=\"dataframe\">\n  <thead>\n    <tr style=\"text-align: right;\">\n      <th></th>\n      <th>PostalCode</th>\n      <th>Borough</th>\n      <th>Neighborhood</th>\n    </tr>\n  </thead>\n  <tbody>\n    <tr>\n      <th>0</th>\n      <td>M3A</td>\n      <td>North York</td>\n      <td>Parkwoods</td>\n    </tr>\n    <tr>\n      <th>1</th>\n      <td>M4A</td>\n      <td>North York</td>\n      <td>Victoria Village</td>\n    </tr>\n    <tr>\n      <th>2</th>\n      <td>M5A</td>\n      <td>Downtown Toronto</td>\n      <td>Regent Park, Harbourfront</td>\n    </tr>\n    <tr>\n      <th>3</th>\n      <td>M6A</td>\n      <td>North York</td>\n      <td>Lawrence Manor, Lawrence Heights</td>\n    </tr>\n    <tr>\n      <th>4</th>\n      <td>M7A</td>\n      <td>Queen's Park</td>\n      <td>Ontario Provincial Government</td>\n    </tr>\n    <tr>\n      <th>...</th>\n      <td>...</td>\n      <td>...</td>\n      <td>...</td>\n    </tr>\n    <tr>\n      <th>98</th>\n      <td>M8X</td>\n      <td>Etobicoke</td>\n      <td>The Kingsway, Montgomery Road, Old Mill North</td>\n    </tr>\n    <tr>\n      <th>99</th>\n      <td>M4Y</td>\n      <td>Downtown Toronto</td>\n      <td>Church and Wellesley</td>\n    </tr>\n    <tr>\n      <th>100</th>\n      <td>M7Y</td>\n      <td>East Toronto Business</td>\n      <td>Enclave of M4L</td>\n    </tr>\n    <tr>\n      <th>101</th>\n      <td>M8Y</td>\n      <td>Etobicoke</td>\n      <td>Old Mill South, King's Mill Park, Sunnylea, Hu...</td>\n    </tr>\n    <tr>\n      <th>102</th>\n      <td>M8Z</td>\n      <td>Etobicoke</td>\n      <td>Mimico NW, The Queensway West, South of Bloor,...</td>\n    </tr>\n  </tbody>\n</table>\n<p>103 rows \u00d7 3 columns</p>\n</div>",
                        "text/plain": "    PostalCode                Borough  \\\n0          M3A             North York   \n1          M4A             North York   \n2          M5A       Downtown Toronto   \n3          M6A             North York   \n4          M7A           Queen's Park   \n..         ...                    ...   \n98         M8X              Etobicoke   \n99         M4Y       Downtown Toronto   \n100        M7Y  East Toronto Business   \n101        M8Y              Etobicoke   \n102        M8Z              Etobicoke   \n\n                                          Neighborhood  \n0                                            Parkwoods  \n1                                     Victoria Village  \n2                            Regent Park, Harbourfront  \n3                     Lawrence Manor, Lawrence Heights  \n4                        Ontario Provincial Government  \n..                                                 ...  \n98       The Kingsway, Montgomery Road, Old Mill North  \n99                                Church and Wellesley  \n100                                     Enclave of M4L  \n101  Old Mill South, King's Mill Park, Sunnylea, Hu...  \n102  Mimico NW, The Queensway West, South of Bloor,...  \n\n[103 rows x 3 columns]"
                    },
                    "execution_count": 4,
                    "metadata": {},
                    "output_type": "execute_result"
                }
            ],
            "source": "table_contents=[]\ntable=soup.find('table')\nfor row in table.findAll('td'):\n    cell = {}\n    if row.span.text=='Not assigned':\n        pass\n    else:\n        cell['PostalCode'] = row.p.text[:3]\n        cell['Borough'] = (row.span.text).split('(')[0]\n        cell['Neighborhood'] = (((((row.span.text).split('(')[1]).strip(')')).replace(' /',',')).replace(')',' ')).strip(' ')\n        table_contents.append(cell)\n\ndf=pd.DataFrame(table_contents)\ndf['Borough']=df['Borough'].replace({'Downtown TorontoStn A PO Boxes25 The Esplanade':'Downtown Toronto Stn A',\n                                             'East TorontoBusiness reply mail Processing Centre969 Eastern':'East Toronto Business',\n                                             'EtobicokeNorthwest':'Etobicoke Northwest','East YorkEast Toronto':'East York/East Toronto',\n                                             'MississaugaCanada Post Gateway Processing Centre':'Mississauga'})\ndf"
        },
        {
            "cell_type": "code",
            "execution_count": 5,
            "metadata": {},
            "outputs": [
                {
                    "data": {
                        "text/plain": "(103, 3)"
                    },
                    "execution_count": 5,
                    "metadata": {},
                    "output_type": "execute_result"
                }
            ],
            "source": "df.shape"
        },
        {
            "cell_type": "markdown",
            "metadata": {},
            "source": "## Part 2: Obtaining Neighborhood's coordinates"
        },
        {
            "cell_type": "code",
            "execution_count": 6,
            "metadata": {},
            "outputs": [
                {
                    "data": {
                        "text/html": "<div>\n<style scoped>\n    .dataframe tbody tr th:only-of-type {\n        vertical-align: middle;\n    }\n\n    .dataframe tbody tr th {\n        vertical-align: top;\n    }\n\n    .dataframe thead th {\n        text-align: right;\n    }\n</style>\n<table border=\"1\" class=\"dataframe\">\n  <thead>\n    <tr style=\"text-align: right;\">\n      <th></th>\n      <th>Latitude</th>\n      <th>Longitude</th>\n    </tr>\n    <tr>\n      <th>Postal Code</th>\n      <th></th>\n      <th></th>\n    </tr>\n  </thead>\n  <tbody>\n    <tr>\n      <th>M1B</th>\n      <td>43.806686</td>\n      <td>-79.194353</td>\n    </tr>\n    <tr>\n      <th>M1C</th>\n      <td>43.784535</td>\n      <td>-79.160497</td>\n    </tr>\n    <tr>\n      <th>M1E</th>\n      <td>43.763573</td>\n      <td>-79.188711</td>\n    </tr>\n    <tr>\n      <th>M1G</th>\n      <td>43.770992</td>\n      <td>-79.216917</td>\n    </tr>\n    <tr>\n      <th>M1H</th>\n      <td>43.773136</td>\n      <td>-79.239476</td>\n    </tr>\n  </tbody>\n</table>\n</div>",
                        "text/plain": "              Latitude  Longitude\nPostal Code                      \nM1B          43.806686 -79.194353\nM1C          43.784535 -79.160497\nM1E          43.763573 -79.188711\nM1G          43.770992 -79.216917\nM1H          43.773136 -79.239476"
                    },
                    "execution_count": 6,
                    "metadata": {},
                    "output_type": "execute_result"
                }
            ],
            "source": "LatLongdata = pd.read_csv('https://cocl.us/Geospatial_data', index_col='Postal Code')\nLatLongdata.head()"
        },
        {
            "cell_type": "markdown",
            "metadata": {},
            "source": "### Merging both dataframes based on postal code"
        },
        {
            "cell_type": "code",
            "execution_count": 7,
            "metadata": {},
            "outputs": [
                {
                    "data": {
                        "text/html": "<div>\n<style scoped>\n    .dataframe tbody tr th:only-of-type {\n        vertical-align: middle;\n    }\n\n    .dataframe tbody tr th {\n        vertical-align: top;\n    }\n\n    .dataframe thead th {\n        text-align: right;\n    }\n</style>\n<table border=\"1\" class=\"dataframe\">\n  <thead>\n    <tr style=\"text-align: right;\">\n      <th></th>\n      <th>PostalCode</th>\n      <th>Borough</th>\n      <th>Neighborhood</th>\n      <th>Latitude</th>\n      <th>Longitude</th>\n    </tr>\n  </thead>\n  <tbody>\n    <tr>\n      <th>0</th>\n      <td>M3A</td>\n      <td>North York</td>\n      <td>Parkwoods</td>\n      <td>43.753259</td>\n      <td>-79.329656</td>\n    </tr>\n    <tr>\n      <th>1</th>\n      <td>M4A</td>\n      <td>North York</td>\n      <td>Victoria Village</td>\n      <td>43.725882</td>\n      <td>-79.315572</td>\n    </tr>\n    <tr>\n      <th>2</th>\n      <td>M5A</td>\n      <td>Downtown Toronto</td>\n      <td>Regent Park, Harbourfront</td>\n      <td>43.654260</td>\n      <td>-79.360636</td>\n    </tr>\n    <tr>\n      <th>3</th>\n      <td>M6A</td>\n      <td>North York</td>\n      <td>Lawrence Manor, Lawrence Heights</td>\n      <td>43.718518</td>\n      <td>-79.464763</td>\n    </tr>\n    <tr>\n      <th>4</th>\n      <td>M7A</td>\n      <td>Queen's Park</td>\n      <td>Ontario Provincial Government</td>\n      <td>43.662301</td>\n      <td>-79.389494</td>\n    </tr>\n  </tbody>\n</table>\n</div>",
                        "text/plain": "  PostalCode           Borough                      Neighborhood   Latitude  \\\n0        M3A        North York                         Parkwoods  43.753259   \n1        M4A        North York                  Victoria Village  43.725882   \n2        M5A  Downtown Toronto         Regent Park, Harbourfront  43.654260   \n3        M6A        North York  Lawrence Manor, Lawrence Heights  43.718518   \n4        M7A      Queen's Park     Ontario Provincial Government  43.662301   \n\n   Longitude  \n0 -79.329656  \n1 -79.315572  \n2 -79.360636  \n3 -79.464763  \n4 -79.389494  "
                    },
                    "execution_count": 7,
                    "metadata": {},
                    "output_type": "execute_result"
                }
            ],
            "source": "Data = df.join(LatLongdata, on='PostalCode')\nData = pd.DataFrame (Data)\nData.head()"
        },
        {
            "cell_type": "markdown",
            "metadata": {},
            "source": "## Part 3: Exploring and clustering Neighborhoods"
        },
        {
            "cell_type": "code",
            "execution_count": 8,
            "metadata": {},
            "outputs": [],
            "source": "import json, requests\nimport numpy as np\nfrom sklearn.cluster import KMeans"
        },
        {
            "cell_type": "markdown",
            "metadata": {},
            "source": "### First I will load my Foursquare credentials"
        },
        {
            "cell_type": "code",
            "execution_count": 9,
            "metadata": {},
            "outputs": [
                {
                    "name": "stdout",
                    "output_type": "stream",
                    "text": "Your credentails:\nCLIENT_ID: ME4QF220DGKQEMHYQ2EXPSPUNOFRBIJ2ZONHJ1CODRV5LYK1\nCLIENT_SECRET:FO02TIBGYIROAYOVC5X0XMD0VVVOU5FQVNXFP4XEL0DAHDIY\n"
                }
            ],
            "source": "CLIENT_ID = 'ME4QF220DGKQEMHYQ2EXPSPUNOFRBIJ2ZONHJ1CODRV5LYK1' \nCLIENT_SECRET = 'FO02TIBGYIROAYOVC5X0XMD0VVVOU5FQVNXFP4XEL0DAHDIY'\nVERSION = '20210525'\nLIMIT = 100 \n\nprint('Your credentails:')\nprint('CLIENT_ID: ' + CLIENT_ID)\nprint('CLIENT_SECRET:' + CLIENT_SECRET)"
        },
        {
            "cell_type": "markdown",
            "metadata": {},
            "source": "###  Then I define a function to iterate through every neighborhood and obtain venues data"
        },
        {
            "cell_type": "code",
            "execution_count": 10,
            "metadata": {},
            "outputs": [],
            "source": "def getNearbyVenues(names, latitudes, longitudes, radius=500):\n    \n    venues_list=[]\n    for name, lat, lng in zip(names, latitudes, longitudes):\n        print(name)\n            \n        # create the API request URL\n        url = 'https://api.foursquare.com/v2/venues/explore?&client_id={}&client_secret={}&v={}&ll={},{}&radius={}&limit={}'.format(\n            CLIENT_ID,\n            CLIENT_SECRET, \n            VERSION, \n            lat, \n            lng, \n            radius, \n            LIMIT)\n            \n        # make the GET request\n        results = requests.get(url).json()[\"response\"]['groups'][0]['items']\n        \n        # return only relevant information for each nearby venue\n        venues_list.append([(\n            name, \n            lat, \n            lng, \n            v['venue']['name'], \n            v['venue']['location']['lat'], \n            v['venue']['location']['lng'],  \n            v['venue']['categories'][0]['name']) for v in results])\n\n    nearby_venues = pd.DataFrame([item for venue_list in venues_list for item in venue_list])\n    nearby_venues.columns = ['Neighborhood', \n                  'Neighborhood Latitude', \n                  'Neighborhood Longitude', \n                  'Venue', \n                  'Venue Latitude', \n                  'Venue Longitude', \n                  'Venue Category']\n    \n    return(nearby_venues)"
        },
        {
            "cell_type": "markdown",
            "metadata": {},
            "source": "### I will now run the function in order to generate a new dataframe with the venues for each neighborhood "
        },
        {
            "cell_type": "code",
            "execution_count": 11,
            "metadata": {},
            "outputs": [
                {
                    "name": "stdout",
                    "output_type": "stream",
                    "text": "Parkwoods\nVictoria Village\nRegent Park, Harbourfront\nLawrence Manor, Lawrence Heights\nOntario Provincial Government\nIslington Avenue\nMalvern, Rouge\nDon Mills North\nParkview Hill, Woodbine Gardens\nGarden District, Ryerson\nGlencairn\nWest Deane Park, Princess Gardens, Martin Grove, Islington, Cloverdale\nRouge Hill, Port Union, Highland Creek\nDon Mills South\nWoodbine Heights\nSt. James Town\nHumewood-Cedarvale\nEringate, Bloordale Gardens, Old Burnhamthorpe, Markland Wood\nGuildwood, Morningside, West Hill\nThe Beaches\nBerczy Park\nCaledonia-Fairbanks\nWoburn\nLeaside\nCentral Bay Street\nChristie\nCedarbrae\nHillcrest Village\nBathurst Manor, Wilson Heights, Downsview North\nThorncliffe Park\nRichmond, Adelaide, King\nDufferin, Dovercourt Village\nScarborough Village\nFairview, Henry Farm, Oriole\nNorthwood Park, York University\nThe Danforth  East\nHarbourfront East, Union Station, Toronto Islands\nLittle Portugal, Trinity\nKennedy Park, Ionview, East Birchmount Park\nBayview Village\nDownsview East\nThe Danforth West, Riverdale\nToronto Dominion Centre, Design Exchange\nBrockton, Parkdale Village, Exhibition Place\nGolden Mile, Clairlea, Oakridge\nYork Mills, Silver Hills\nDownsview West\nIndia Bazaar, The Beaches West\nCommerce Court, Victoria Hotel\nNorth Park, Maple Leaf Park, Upwood Park\nHumber Summit\nCliffside, Cliffcrest, Scarborough Village West\nWillowdale, Newtonbrook\nDownsview Central\nStudio District\nBedford Park, Lawrence Manor East\nDel Ray, Mount Dennis, Keelsdale and Silverthorn\nHumberlea, Emery\nBirch Cliff, Cliffside West\nWillowdale South\nDownsview Northwest\nLawrence Park\nRoselawn\nRunnymede, The Junction North\nWeston\nDorset Park, Wexford Heights, Scarborough Town Centre\nYork Mills West\nDavisville North\nForest Hill North & West\nHigh Park, The Junction South\nWestmount\nWexford, Maryvale\nWillowdale West\nNorth Toronto West\nThe Annex, North Midtown, Yorkville\nParkdale, Roncesvalles\nEnclave of L4W\nKingsview Village, St. Phillips, Martin Grove Gardens, Richview Gardens\nAgincourt\nDavisville\nUniversity of Toronto, Harbord\nRunnymede, Swansea\nClarks Corners, Tam O'Shanter, Sullivan\nMoore Park, Summerhill East\nKensington Market, Chinatown, Grange Park\nMilliken, Agincourt North, Steeles East, L'Amoreaux East\nSummerhill West, Rathnelly, South Hill, Forest Hill SE, Deer Park\nCN Tower, King and Spadina, Railway Lands, Harbourfront West, Bathurst Quay, South Niagara, Island airport\nNew Toronto, Mimico South, Humber Bay Shores\nSouth Steeles, Silverstone, Humbergate, Jamestown, Mount Olive, Beaumond Heights, Thistletown, Albion Gardens\nSteeles West, L'Amoreaux West\nRosedale\nEnclave of M5E\nAlderwood, Long Branch\nClairville, Humberwood, Woodbine Downs, West Humber, Kipling Heights, Rexdale, Elms, Tandridge, Old Rexdale\nUpper Rouge\nSt. James Town, Cabbagetown\nFirst Canadian Place, Underground city\nThe Kingsway, Montgomery Road, Old Mill North\nChurch and Wellesley\nEnclave of M4L\nOld Mill South, King's Mill Park, Sunnylea, Humber Bay, Mimico NE, The Queensway East, Royal York South East, Kingsway Park South East\nMimico NW, The Queensway West, South of Bloor, Kingsway Park South West, Royal York South West\n"
                }
            ],
            "source": "toronto_venues = getNearbyVenues(names=Data['Neighborhood'],\n                                   latitudes=Data['Latitude'],\n                                   longitudes=Data['Longitude']\n                                  )"
        },
        {
            "cell_type": "code",
            "execution_count": 12,
            "metadata": {},
            "outputs": [
                {
                    "data": {
                        "text/html": "<div>\n<style scoped>\n    .dataframe tbody tr th:only-of-type {\n        vertical-align: middle;\n    }\n\n    .dataframe tbody tr th {\n        vertical-align: top;\n    }\n\n    .dataframe thead th {\n        text-align: right;\n    }\n</style>\n<table border=\"1\" class=\"dataframe\">\n  <thead>\n    <tr style=\"text-align: right;\">\n      <th></th>\n      <th>Neighborhood</th>\n      <th>Neighborhood Latitude</th>\n      <th>Neighborhood Longitude</th>\n      <th>Venue</th>\n      <th>Venue Latitude</th>\n      <th>Venue Longitude</th>\n      <th>Venue Category</th>\n    </tr>\n  </thead>\n  <tbody>\n    <tr>\n      <th>0</th>\n      <td>Parkwoods</td>\n      <td>43.753259</td>\n      <td>-79.329656</td>\n      <td>KFC</td>\n      <td>43.754387</td>\n      <td>-79.333021</td>\n      <td>Fast Food Restaurant</td>\n    </tr>\n    <tr>\n      <th>1</th>\n      <td>Parkwoods</td>\n      <td>43.753259</td>\n      <td>-79.329656</td>\n      <td>Brookbanks Park</td>\n      <td>43.751976</td>\n      <td>-79.332140</td>\n      <td>Park</td>\n    </tr>\n    <tr>\n      <th>2</th>\n      <td>Parkwoods</td>\n      <td>43.753259</td>\n      <td>-79.329656</td>\n      <td>Variety Store</td>\n      <td>43.751974</td>\n      <td>-79.333114</td>\n      <td>Food &amp; Drink Shop</td>\n    </tr>\n    <tr>\n      <th>3</th>\n      <td>Victoria Village</td>\n      <td>43.725882</td>\n      <td>-79.315572</td>\n      <td>Victoria Village Arena</td>\n      <td>43.723481</td>\n      <td>-79.315635</td>\n      <td>Hockey Arena</td>\n    </tr>\n    <tr>\n      <th>4</th>\n      <td>Victoria Village</td>\n      <td>43.725882</td>\n      <td>-79.315572</td>\n      <td>Portugril</td>\n      <td>43.725819</td>\n      <td>-79.312785</td>\n      <td>Portuguese Restaurant</td>\n    </tr>\n  </tbody>\n</table>\n</div>",
                        "text/plain": "       Neighborhood  Neighborhood Latitude  Neighborhood Longitude  \\\n0         Parkwoods              43.753259              -79.329656   \n1         Parkwoods              43.753259              -79.329656   \n2         Parkwoods              43.753259              -79.329656   \n3  Victoria Village              43.725882              -79.315572   \n4  Victoria Village              43.725882              -79.315572   \n\n                    Venue  Venue Latitude  Venue Longitude  \\\n0                     KFC       43.754387       -79.333021   \n1         Brookbanks Park       43.751976       -79.332140   \n2           Variety Store       43.751974       -79.333114   \n3  Victoria Village Arena       43.723481       -79.315635   \n4               Portugril       43.725819       -79.312785   \n\n          Venue Category  \n0   Fast Food Restaurant  \n1                   Park  \n2      Food & Drink Shop  \n3           Hockey Arena  \n4  Portuguese Restaurant  "
                    },
                    "execution_count": 12,
                    "metadata": {},
                    "output_type": "execute_result"
                }
            ],
            "source": "toronto_venues.head()"
        },
        {
            "cell_type": "code",
            "execution_count": 13,
            "metadata": {},
            "outputs": [
                {
                    "data": {
                        "text/plain": "(2007, 7)"
                    },
                    "execution_count": 13,
                    "metadata": {},
                    "output_type": "execute_result"
                }
            ],
            "source": "toronto_venues.shape"
        },
        {
            "cell_type": "markdown",
            "metadata": {},
            "source": "### Hot encoding. Getting dummies to change from string to numerical data "
        },
        {
            "cell_type": "code",
            "execution_count": 14,
            "metadata": {},
            "outputs": [
                {
                    "data": {
                        "text/html": "<div>\n<style scoped>\n    .dataframe tbody tr th:only-of-type {\n        vertical-align: middle;\n    }\n\n    .dataframe tbody tr th {\n        vertical-align: top;\n    }\n\n    .dataframe thead th {\n        text-align: right;\n    }\n</style>\n<table border=\"1\" class=\"dataframe\">\n  <thead>\n    <tr style=\"text-align: right;\">\n      <th></th>\n      <th>Yoga Studio</th>\n      <th>Accessories Store</th>\n      <th>Adult Boutique</th>\n      <th>Afghan Restaurant</th>\n      <th>Airport</th>\n      <th>Airport Food Court</th>\n      <th>Airport Gate</th>\n      <th>Airport Lounge</th>\n      <th>Airport Service</th>\n      <th>Airport Terminal</th>\n      <th>...</th>\n      <th>Truck Stop</th>\n      <th>Vegetarian / Vegan Restaurant</th>\n      <th>Video Game Store</th>\n      <th>Video Store</th>\n      <th>Vietnamese Restaurant</th>\n      <th>Warehouse Store</th>\n      <th>Wine Bar</th>\n      <th>Wine Shop</th>\n      <th>Wings Joint</th>\n      <th>Women's Store</th>\n    </tr>\n  </thead>\n  <tbody>\n    <tr>\n      <th>0</th>\n      <td>0</td>\n      <td>0</td>\n      <td>0</td>\n      <td>0</td>\n      <td>0</td>\n      <td>0</td>\n      <td>0</td>\n      <td>0</td>\n      <td>0</td>\n      <td>0</td>\n      <td>...</td>\n      <td>0</td>\n      <td>0</td>\n      <td>0</td>\n      <td>0</td>\n      <td>0</td>\n      <td>0</td>\n      <td>0</td>\n      <td>0</td>\n      <td>0</td>\n      <td>0</td>\n    </tr>\n    <tr>\n      <th>1</th>\n      <td>0</td>\n      <td>0</td>\n      <td>0</td>\n      <td>0</td>\n      <td>0</td>\n      <td>0</td>\n      <td>0</td>\n      <td>0</td>\n      <td>0</td>\n      <td>0</td>\n      <td>...</td>\n      <td>0</td>\n      <td>0</td>\n      <td>0</td>\n      <td>0</td>\n      <td>0</td>\n      <td>0</td>\n      <td>0</td>\n      <td>0</td>\n      <td>0</td>\n      <td>0</td>\n    </tr>\n    <tr>\n      <th>2</th>\n      <td>0</td>\n      <td>0</td>\n      <td>0</td>\n      <td>0</td>\n      <td>0</td>\n      <td>0</td>\n      <td>0</td>\n      <td>0</td>\n      <td>0</td>\n      <td>0</td>\n      <td>...</td>\n      <td>0</td>\n      <td>0</td>\n      <td>0</td>\n      <td>0</td>\n      <td>0</td>\n      <td>0</td>\n      <td>0</td>\n      <td>0</td>\n      <td>0</td>\n      <td>0</td>\n    </tr>\n    <tr>\n      <th>3</th>\n      <td>0</td>\n      <td>0</td>\n      <td>0</td>\n      <td>0</td>\n      <td>0</td>\n      <td>0</td>\n      <td>0</td>\n      <td>0</td>\n      <td>0</td>\n      <td>0</td>\n      <td>...</td>\n      <td>0</td>\n      <td>0</td>\n      <td>0</td>\n      <td>0</td>\n      <td>0</td>\n      <td>0</td>\n      <td>0</td>\n      <td>0</td>\n      <td>0</td>\n      <td>0</td>\n    </tr>\n    <tr>\n      <th>4</th>\n      <td>0</td>\n      <td>0</td>\n      <td>0</td>\n      <td>0</td>\n      <td>0</td>\n      <td>0</td>\n      <td>0</td>\n      <td>0</td>\n      <td>0</td>\n      <td>0</td>\n      <td>...</td>\n      <td>0</td>\n      <td>0</td>\n      <td>0</td>\n      <td>0</td>\n      <td>0</td>\n      <td>0</td>\n      <td>0</td>\n      <td>0</td>\n      <td>0</td>\n      <td>0</td>\n    </tr>\n  </tbody>\n</table>\n<p>5 rows \u00d7 259 columns</p>\n</div>",
                        "text/plain": "   Yoga Studio  Accessories Store  Adult Boutique  Afghan Restaurant  Airport  \\\n0            0                  0               0                  0        0   \n1            0                  0               0                  0        0   \n2            0                  0               0                  0        0   \n3            0                  0               0                  0        0   \n4            0                  0               0                  0        0   \n\n   Airport Food Court  Airport Gate  Airport Lounge  Airport Service  \\\n0                   0             0               0                0   \n1                   0             0               0                0   \n2                   0             0               0                0   \n3                   0             0               0                0   \n4                   0             0               0                0   \n\n   Airport Terminal  ...  Truck Stop  Vegetarian / Vegan Restaurant  \\\n0                 0  ...           0                              0   \n1                 0  ...           0                              0   \n2                 0  ...           0                              0   \n3                 0  ...           0                              0   \n4                 0  ...           0                              0   \n\n   Video Game Store  Video Store  Vietnamese Restaurant  Warehouse Store  \\\n0                 0            0                      0                0   \n1                 0            0                      0                0   \n2                 0            0                      0                0   \n3                 0            0                      0                0   \n4                 0            0                      0                0   \n\n   Wine Bar  Wine Shop  Wings Joint  Women's Store  \n0         0          0            0              0  \n1         0          0            0              0  \n2         0          0            0              0  \n3         0          0            0              0  \n4         0          0            0              0  \n\n[5 rows x 259 columns]"
                    },
                    "execution_count": 14,
                    "metadata": {},
                    "output_type": "execute_result"
                }
            ],
            "source": "# one hot encoding\ntoronto_onehot = pd.get_dummies(toronto_venues[['Venue Category']], prefix=\"\", prefix_sep=\"\")\n\n# add neighborhood column back to dataframe\ntoronto_onehot['Neighborhood'] = toronto_venues['Neighborhood'] \n\n# move neighborhood column to the first column\nfixed_columns = [toronto_onehot.columns[-1]] + list(toronto_onehot.columns[:-1])\ntoronto_onehot = toronto_onehot[fixed_columns]\n\ntoronto_onehot.head()"
        },
        {
            "cell_type": "markdown",
            "metadata": {},
            "source": "### Grouping rows by neigborhood and means of occurrence for each neighborhood "
        },
        {
            "cell_type": "code",
            "execution_count": 15,
            "metadata": {
                "scrolled": true
            },
            "outputs": [
                {
                    "data": {
                        "text/html": "<div>\n<style scoped>\n    .dataframe tbody tr th:only-of-type {\n        vertical-align: middle;\n    }\n\n    .dataframe tbody tr th {\n        vertical-align: top;\n    }\n\n    .dataframe thead th {\n        text-align: right;\n    }\n</style>\n<table border=\"1\" class=\"dataframe\">\n  <thead>\n    <tr style=\"text-align: right;\">\n      <th></th>\n      <th>Neighborhood</th>\n      <th>Yoga Studio</th>\n      <th>Accessories Store</th>\n      <th>Adult Boutique</th>\n      <th>Afghan Restaurant</th>\n      <th>Airport</th>\n      <th>Airport Food Court</th>\n      <th>Airport Gate</th>\n      <th>Airport Lounge</th>\n      <th>Airport Service</th>\n      <th>...</th>\n      <th>Truck Stop</th>\n      <th>Vegetarian / Vegan Restaurant</th>\n      <th>Video Game Store</th>\n      <th>Video Store</th>\n      <th>Vietnamese Restaurant</th>\n      <th>Warehouse Store</th>\n      <th>Wine Bar</th>\n      <th>Wine Shop</th>\n      <th>Wings Joint</th>\n      <th>Women's Store</th>\n    </tr>\n  </thead>\n  <tbody>\n    <tr>\n      <th>0</th>\n      <td>Agincourt</td>\n      <td>0.000000</td>\n      <td>0.0</td>\n      <td>0.000000</td>\n      <td>0.000000</td>\n      <td>0.000000</td>\n      <td>0.000000</td>\n      <td>0.000000</td>\n      <td>0.000000</td>\n      <td>0.000000</td>\n      <td>...</td>\n      <td>0.00</td>\n      <td>0.000000</td>\n      <td>0.0</td>\n      <td>0.0</td>\n      <td>0.0</td>\n      <td>0.0</td>\n      <td>0.000000</td>\n      <td>0.000000</td>\n      <td>0.0</td>\n      <td>0.00</td>\n    </tr>\n    <tr>\n      <th>1</th>\n      <td>Alderwood, Long Branch</td>\n      <td>0.000000</td>\n      <td>0.0</td>\n      <td>0.000000</td>\n      <td>0.000000</td>\n      <td>0.000000</td>\n      <td>0.000000</td>\n      <td>0.000000</td>\n      <td>0.000000</td>\n      <td>0.000000</td>\n      <td>...</td>\n      <td>0.00</td>\n      <td>0.000000</td>\n      <td>0.0</td>\n      <td>0.0</td>\n      <td>0.0</td>\n      <td>0.0</td>\n      <td>0.000000</td>\n      <td>0.000000</td>\n      <td>0.0</td>\n      <td>0.00</td>\n    </tr>\n    <tr>\n      <th>2</th>\n      <td>Bathurst Manor, Wilson Heights, Downsview North</td>\n      <td>0.000000</td>\n      <td>0.0</td>\n      <td>0.000000</td>\n      <td>0.000000</td>\n      <td>0.000000</td>\n      <td>0.000000</td>\n      <td>0.000000</td>\n      <td>0.000000</td>\n      <td>0.000000</td>\n      <td>...</td>\n      <td>0.00</td>\n      <td>0.000000</td>\n      <td>0.0</td>\n      <td>0.0</td>\n      <td>0.0</td>\n      <td>0.0</td>\n      <td>0.000000</td>\n      <td>0.000000</td>\n      <td>0.0</td>\n      <td>0.00</td>\n    </tr>\n    <tr>\n      <th>3</th>\n      <td>Bayview Village</td>\n      <td>0.000000</td>\n      <td>0.0</td>\n      <td>0.000000</td>\n      <td>0.000000</td>\n      <td>0.000000</td>\n      <td>0.000000</td>\n      <td>0.000000</td>\n      <td>0.000000</td>\n      <td>0.000000</td>\n      <td>...</td>\n      <td>0.00</td>\n      <td>0.000000</td>\n      <td>0.0</td>\n      <td>0.0</td>\n      <td>0.0</td>\n      <td>0.0</td>\n      <td>0.000000</td>\n      <td>0.000000</td>\n      <td>0.0</td>\n      <td>0.00</td>\n    </tr>\n    <tr>\n      <th>4</th>\n      <td>Bedford Park, Lawrence Manor East</td>\n      <td>0.000000</td>\n      <td>0.0</td>\n      <td>0.000000</td>\n      <td>0.000000</td>\n      <td>0.000000</td>\n      <td>0.000000</td>\n      <td>0.000000</td>\n      <td>0.000000</td>\n      <td>0.000000</td>\n      <td>...</td>\n      <td>0.00</td>\n      <td>0.000000</td>\n      <td>0.0</td>\n      <td>0.0</td>\n      <td>0.0</td>\n      <td>0.0</td>\n      <td>0.000000</td>\n      <td>0.000000</td>\n      <td>0.0</td>\n      <td>0.00</td>\n    </tr>\n    <tr>\n      <th>5</th>\n      <td>Berczy Park</td>\n      <td>0.000000</td>\n      <td>0.0</td>\n      <td>0.000000</td>\n      <td>0.000000</td>\n      <td>0.000000</td>\n      <td>0.000000</td>\n      <td>0.000000</td>\n      <td>0.000000</td>\n      <td>0.000000</td>\n      <td>...</td>\n      <td>0.00</td>\n      <td>0.042553</td>\n      <td>0.0</td>\n      <td>0.0</td>\n      <td>0.0</td>\n      <td>0.0</td>\n      <td>0.000000</td>\n      <td>0.000000</td>\n      <td>0.0</td>\n      <td>0.00</td>\n    </tr>\n    <tr>\n      <th>6</th>\n      <td>Birch Cliff, Cliffside West</td>\n      <td>0.000000</td>\n      <td>0.0</td>\n      <td>0.000000</td>\n      <td>0.000000</td>\n      <td>0.000000</td>\n      <td>0.000000</td>\n      <td>0.000000</td>\n      <td>0.000000</td>\n      <td>0.000000</td>\n      <td>...</td>\n      <td>0.00</td>\n      <td>0.000000</td>\n      <td>0.0</td>\n      <td>0.0</td>\n      <td>0.0</td>\n      <td>0.0</td>\n      <td>0.000000</td>\n      <td>0.000000</td>\n      <td>0.0</td>\n      <td>0.00</td>\n    </tr>\n    <tr>\n      <th>7</th>\n      <td>Brockton, Parkdale Village, Exhibition Place</td>\n      <td>0.000000</td>\n      <td>0.0</td>\n      <td>0.000000</td>\n      <td>0.000000</td>\n      <td>0.000000</td>\n      <td>0.000000</td>\n      <td>0.000000</td>\n      <td>0.000000</td>\n      <td>0.000000</td>\n      <td>...</td>\n      <td>0.00</td>\n      <td>0.000000</td>\n      <td>0.0</td>\n      <td>0.0</td>\n      <td>0.0</td>\n      <td>0.0</td>\n      <td>0.000000</td>\n      <td>0.000000</td>\n      <td>0.0</td>\n      <td>0.00</td>\n    </tr>\n    <tr>\n      <th>8</th>\n      <td>CN Tower, King and Spadina, Railway Lands, Har...</td>\n      <td>0.000000</td>\n      <td>0.0</td>\n      <td>0.000000</td>\n      <td>0.000000</td>\n      <td>0.058824</td>\n      <td>0.058824</td>\n      <td>0.058824</td>\n      <td>0.117647</td>\n      <td>0.176471</td>\n      <td>...</td>\n      <td>0.00</td>\n      <td>0.000000</td>\n      <td>0.0</td>\n      <td>0.0</td>\n      <td>0.0</td>\n      <td>0.0</td>\n      <td>0.000000</td>\n      <td>0.000000</td>\n      <td>0.0</td>\n      <td>0.00</td>\n    </tr>\n    <tr>\n      <th>9</th>\n      <td>Caledonia-Fairbanks</td>\n      <td>0.000000</td>\n      <td>0.0</td>\n      <td>0.000000</td>\n      <td>0.000000</td>\n      <td>0.000000</td>\n      <td>0.000000</td>\n      <td>0.000000</td>\n      <td>0.000000</td>\n      <td>0.000000</td>\n      <td>...</td>\n      <td>0.00</td>\n      <td>0.000000</td>\n      <td>0.0</td>\n      <td>0.0</td>\n      <td>0.0</td>\n      <td>0.0</td>\n      <td>0.000000</td>\n      <td>0.000000</td>\n      <td>0.0</td>\n      <td>0.25</td>\n    </tr>\n    <tr>\n      <th>10</th>\n      <td>Cedarbrae</td>\n      <td>0.000000</td>\n      <td>0.0</td>\n      <td>0.000000</td>\n      <td>0.000000</td>\n      <td>0.000000</td>\n      <td>0.000000</td>\n      <td>0.000000</td>\n      <td>0.000000</td>\n      <td>0.000000</td>\n      <td>...</td>\n      <td>0.00</td>\n      <td>0.000000</td>\n      <td>0.0</td>\n      <td>0.0</td>\n      <td>0.0</td>\n      <td>0.0</td>\n      <td>0.000000</td>\n      <td>0.000000</td>\n      <td>0.0</td>\n      <td>0.00</td>\n    </tr>\n    <tr>\n      <th>11</th>\n      <td>Central Bay Street</td>\n      <td>0.016129</td>\n      <td>0.0</td>\n      <td>0.000000</td>\n      <td>0.000000</td>\n      <td>0.000000</td>\n      <td>0.000000</td>\n      <td>0.000000</td>\n      <td>0.000000</td>\n      <td>0.000000</td>\n      <td>...</td>\n      <td>0.00</td>\n      <td>0.016129</td>\n      <td>0.0</td>\n      <td>0.0</td>\n      <td>0.0</td>\n      <td>0.0</td>\n      <td>0.016129</td>\n      <td>0.000000</td>\n      <td>0.0</td>\n      <td>0.00</td>\n    </tr>\n    <tr>\n      <th>12</th>\n      <td>Christie</td>\n      <td>0.000000</td>\n      <td>0.0</td>\n      <td>0.000000</td>\n      <td>0.000000</td>\n      <td>0.000000</td>\n      <td>0.000000</td>\n      <td>0.000000</td>\n      <td>0.000000</td>\n      <td>0.000000</td>\n      <td>...</td>\n      <td>0.00</td>\n      <td>0.000000</td>\n      <td>0.0</td>\n      <td>0.0</td>\n      <td>0.0</td>\n      <td>0.0</td>\n      <td>0.000000</td>\n      <td>0.000000</td>\n      <td>0.0</td>\n      <td>0.00</td>\n    </tr>\n    <tr>\n      <th>13</th>\n      <td>Church and Wellesley</td>\n      <td>0.015152</td>\n      <td>0.0</td>\n      <td>0.015152</td>\n      <td>0.015152</td>\n      <td>0.000000</td>\n      <td>0.000000</td>\n      <td>0.000000</td>\n      <td>0.000000</td>\n      <td>0.000000</td>\n      <td>...</td>\n      <td>0.00</td>\n      <td>0.000000</td>\n      <td>0.0</td>\n      <td>0.0</td>\n      <td>0.0</td>\n      <td>0.0</td>\n      <td>0.000000</td>\n      <td>0.015152</td>\n      <td>0.0</td>\n      <td>0.00</td>\n    </tr>\n    <tr>\n      <th>14</th>\n      <td>Clairville, Humberwood, Woodbine Downs, West H...</td>\n      <td>0.000000</td>\n      <td>0.0</td>\n      <td>0.000000</td>\n      <td>0.000000</td>\n      <td>0.000000</td>\n      <td>0.000000</td>\n      <td>0.000000</td>\n      <td>0.000000</td>\n      <td>0.000000</td>\n      <td>...</td>\n      <td>0.25</td>\n      <td>0.000000</td>\n      <td>0.0</td>\n      <td>0.0</td>\n      <td>0.0</td>\n      <td>0.0</td>\n      <td>0.000000</td>\n      <td>0.000000</td>\n      <td>0.0</td>\n      <td>0.00</td>\n    </tr>\n  </tbody>\n</table>\n<p>15 rows \u00d7 259 columns</p>\n</div>",
                        "text/plain": "                                         Neighborhood  Yoga Studio  \\\n0                                           Agincourt     0.000000   \n1                              Alderwood, Long Branch     0.000000   \n2     Bathurst Manor, Wilson Heights, Downsview North     0.000000   \n3                                     Bayview Village     0.000000   \n4                   Bedford Park, Lawrence Manor East     0.000000   \n5                                         Berczy Park     0.000000   \n6                         Birch Cliff, Cliffside West     0.000000   \n7        Brockton, Parkdale Village, Exhibition Place     0.000000   \n8   CN Tower, King and Spadina, Railway Lands, Har...     0.000000   \n9                                 Caledonia-Fairbanks     0.000000   \n10                                          Cedarbrae     0.000000   \n11                                 Central Bay Street     0.016129   \n12                                           Christie     0.000000   \n13                               Church and Wellesley     0.015152   \n14  Clairville, Humberwood, Woodbine Downs, West H...     0.000000   \n\n    Accessories Store  Adult Boutique  Afghan Restaurant   Airport  \\\n0                 0.0        0.000000           0.000000  0.000000   \n1                 0.0        0.000000           0.000000  0.000000   \n2                 0.0        0.000000           0.000000  0.000000   \n3                 0.0        0.000000           0.000000  0.000000   \n4                 0.0        0.000000           0.000000  0.000000   \n5                 0.0        0.000000           0.000000  0.000000   \n6                 0.0        0.000000           0.000000  0.000000   \n7                 0.0        0.000000           0.000000  0.000000   \n8                 0.0        0.000000           0.000000  0.058824   \n9                 0.0        0.000000           0.000000  0.000000   \n10                0.0        0.000000           0.000000  0.000000   \n11                0.0        0.000000           0.000000  0.000000   \n12                0.0        0.000000           0.000000  0.000000   \n13                0.0        0.015152           0.015152  0.000000   \n14                0.0        0.000000           0.000000  0.000000   \n\n    Airport Food Court  Airport Gate  Airport Lounge  Airport Service  ...  \\\n0             0.000000      0.000000        0.000000         0.000000  ...   \n1             0.000000      0.000000        0.000000         0.000000  ...   \n2             0.000000      0.000000        0.000000         0.000000  ...   \n3             0.000000      0.000000        0.000000         0.000000  ...   \n4             0.000000      0.000000        0.000000         0.000000  ...   \n5             0.000000      0.000000        0.000000         0.000000  ...   \n6             0.000000      0.000000        0.000000         0.000000  ...   \n7             0.000000      0.000000        0.000000         0.000000  ...   \n8             0.058824      0.058824        0.117647         0.176471  ...   \n9             0.000000      0.000000        0.000000         0.000000  ...   \n10            0.000000      0.000000        0.000000         0.000000  ...   \n11            0.000000      0.000000        0.000000         0.000000  ...   \n12            0.000000      0.000000        0.000000         0.000000  ...   \n13            0.000000      0.000000        0.000000         0.000000  ...   \n14            0.000000      0.000000        0.000000         0.000000  ...   \n\n    Truck Stop  Vegetarian / Vegan Restaurant  Video Game Store  Video Store  \\\n0         0.00                       0.000000               0.0          0.0   \n1         0.00                       0.000000               0.0          0.0   \n2         0.00                       0.000000               0.0          0.0   \n3         0.00                       0.000000               0.0          0.0   \n4         0.00                       0.000000               0.0          0.0   \n5         0.00                       0.042553               0.0          0.0   \n6         0.00                       0.000000               0.0          0.0   \n7         0.00                       0.000000               0.0          0.0   \n8         0.00                       0.000000               0.0          0.0   \n9         0.00                       0.000000               0.0          0.0   \n10        0.00                       0.000000               0.0          0.0   \n11        0.00                       0.016129               0.0          0.0   \n12        0.00                       0.000000               0.0          0.0   \n13        0.00                       0.000000               0.0          0.0   \n14        0.25                       0.000000               0.0          0.0   \n\n    Vietnamese Restaurant  Warehouse Store  Wine Bar  Wine Shop  Wings Joint  \\\n0                     0.0              0.0  0.000000   0.000000          0.0   \n1                     0.0              0.0  0.000000   0.000000          0.0   \n2                     0.0              0.0  0.000000   0.000000          0.0   \n3                     0.0              0.0  0.000000   0.000000          0.0   \n4                     0.0              0.0  0.000000   0.000000          0.0   \n5                     0.0              0.0  0.000000   0.000000          0.0   \n6                     0.0              0.0  0.000000   0.000000          0.0   \n7                     0.0              0.0  0.000000   0.000000          0.0   \n8                     0.0              0.0  0.000000   0.000000          0.0   \n9                     0.0              0.0  0.000000   0.000000          0.0   \n10                    0.0              0.0  0.000000   0.000000          0.0   \n11                    0.0              0.0  0.016129   0.000000          0.0   \n12                    0.0              0.0  0.000000   0.000000          0.0   \n13                    0.0              0.0  0.000000   0.015152          0.0   \n14                    0.0              0.0  0.000000   0.000000          0.0   \n\n    Women's Store  \n0            0.00  \n1            0.00  \n2            0.00  \n3            0.00  \n4            0.00  \n5            0.00  \n6            0.00  \n7            0.00  \n8            0.00  \n9            0.25  \n10           0.00  \n11           0.00  \n12           0.00  \n13           0.00  \n14           0.00  \n\n[15 rows x 259 columns]"
                    },
                    "execution_count": 15,
                    "metadata": {},
                    "output_type": "execute_result"
                }
            ],
            "source": "toronto_grouped = toronto_onehot.groupby('Neighborhood').mean().reset_index()\ntoronto_grouped.head(15)"
        },
        {
            "cell_type": "code",
            "execution_count": 16,
            "metadata": {},
            "outputs": [
                {
                    "data": {
                        "text/plain": "(100, 259)"
                    },
                    "execution_count": 16,
                    "metadata": {},
                    "output_type": "execute_result"
                }
            ],
            "source": "toronto_grouped.shape"
        },
        {
            "cell_type": "markdown",
            "metadata": {},
            "source": "### Obtaining each neighborhood's top 5 venues"
        },
        {
            "cell_type": "markdown",
            "metadata": {},
            "source": "This function will sort venues in descending order for each neighborhood"
        },
        {
            "cell_type": "code",
            "execution_count": 17,
            "metadata": {},
            "outputs": [],
            "source": "def return_most_common_venues(row, num_top_venues):\n    row_categories = row.iloc[1:]\n    row_categories_sorted = row_categories.sort_values(ascending=False)\n    \n    return row_categories_sorted.index.values[0:num_top_venues]"
        },
        {
            "cell_type": "markdown",
            "metadata": {},
            "source": "### Creating a dataframe with the Neighborhoods' top 5 venues"
        },
        {
            "cell_type": "code",
            "execution_count": 18,
            "metadata": {},
            "outputs": [
                {
                    "data": {
                        "text/html": "<div>\n<style scoped>\n    .dataframe tbody tr th:only-of-type {\n        vertical-align: middle;\n    }\n\n    .dataframe tbody tr th {\n        vertical-align: top;\n    }\n\n    .dataframe thead th {\n        text-align: right;\n    }\n</style>\n<table border=\"1\" class=\"dataframe\">\n  <thead>\n    <tr style=\"text-align: right;\">\n      <th></th>\n      <th>Neighborhood</th>\n      <th>1st Most Common Venue</th>\n      <th>2nd Most Common Venue</th>\n      <th>3rd Most Common Venue</th>\n      <th>4th Most Common Venue</th>\n      <th>5th Most Common Venue</th>\n    </tr>\n  </thead>\n  <tbody>\n    <tr>\n      <th>0</th>\n      <td>Agincourt</td>\n      <td>Lounge</td>\n      <td>Breakfast Spot</td>\n      <td>Latin American Restaurant</td>\n      <td>Clothing Store</td>\n      <td>Skating Rink</td>\n    </tr>\n    <tr>\n      <th>1</th>\n      <td>Alderwood, Long Branch</td>\n      <td>Pizza Place</td>\n      <td>Coffee Shop</td>\n      <td>Sandwich Place</td>\n      <td>Pub</td>\n      <td>Playground</td>\n    </tr>\n    <tr>\n      <th>2</th>\n      <td>Bathurst Manor, Wilson Heights, Downsview North</td>\n      <td>Coffee Shop</td>\n      <td>Bank</td>\n      <td>Ice Cream Shop</td>\n      <td>Park</td>\n      <td>Shopping Mall</td>\n    </tr>\n    <tr>\n      <th>3</th>\n      <td>Bayview Village</td>\n      <td>Japanese Restaurant</td>\n      <td>Caf\u00e9</td>\n      <td>Bank</td>\n      <td>Chinese Restaurant</td>\n      <td>Women's Store</td>\n    </tr>\n    <tr>\n      <th>4</th>\n      <td>Bedford Park, Lawrence Manor East</td>\n      <td>Italian Restaurant</td>\n      <td>Coffee Shop</td>\n      <td>Sandwich Place</td>\n      <td>Restaurant</td>\n      <td>Liquor Store</td>\n    </tr>\n  </tbody>\n</table>\n</div>",
                        "text/plain": "                                      Neighborhood 1st Most Common Venue  \\\n0                                        Agincourt                Lounge   \n1                           Alderwood, Long Branch           Pizza Place   \n2  Bathurst Manor, Wilson Heights, Downsview North           Coffee Shop   \n3                                  Bayview Village   Japanese Restaurant   \n4                Bedford Park, Lawrence Manor East    Italian Restaurant   \n\n  2nd Most Common Venue      3rd Most Common Venue 4th Most Common Venue  \\\n0        Breakfast Spot  Latin American Restaurant        Clothing Store   \n1           Coffee Shop             Sandwich Place                   Pub   \n2                  Bank             Ice Cream Shop                  Park   \n3                  Caf\u00e9                       Bank    Chinese Restaurant   \n4           Coffee Shop             Sandwich Place            Restaurant   \n\n  5th Most Common Venue  \n0          Skating Rink  \n1            Playground  \n2         Shopping Mall  \n3         Women's Store  \n4          Liquor Store  "
                    },
                    "execution_count": 18,
                    "metadata": {},
                    "output_type": "execute_result"
                }
            ],
            "source": "num_top_venues = 5\n\nindicators = ['st', 'nd', 'rd']\n\n# create columns according to number of top venues\ncolumns = ['Neighborhood']\nfor ind in np.arange(num_top_venues):\n    try:\n        columns.append('{}{} Most Common Venue'.format(ind+1, indicators[ind]))\n    except:\n        columns.append('{}th Most Common Venue'.format(ind+1))\n\n# create a new dataframe\nneighborhoods_venues_sorted = pd.DataFrame(columns=columns)\nneighborhoods_venues_sorted['Neighborhood'] = toronto_grouped['Neighborhood']\n\nfor ind in np.arange(toronto_grouped.shape[0]):\n    neighborhoods_venues_sorted.iloc[ind, 1:] = return_most_common_venues(toronto_grouped.iloc[ind, :], num_top_venues)\n\nneighborhoods_venues_sorted.head()"
        },
        {
            "cell_type": "code",
            "execution_count": 19,
            "metadata": {},
            "outputs": [
                {
                    "data": {
                        "text/plain": "(100, 6)"
                    },
                    "execution_count": 19,
                    "metadata": {},
                    "output_type": "execute_result"
                }
            ],
            "source": "neighborhoods_venues_sorted.shape"
        },
        {
            "cell_type": "markdown",
            "metadata": {},
            "source": "### Classifying neighborhoods into clusters using k-means "
        },
        {
            "cell_type": "markdown",
            "metadata": {},
            "source": "Note: kclusters (the number of clusters) has been changed several times in the hope of obtaining a better outcome"
        },
        {
            "cell_type": "code",
            "execution_count": 20,
            "metadata": {},
            "outputs": [
                {
                    "data": {
                        "text/plain": "array([0, 0, 0, 0, 0, 0, 0, 0, 0, 1], dtype=int32)"
                    },
                    "execution_count": 20,
                    "metadata": {},
                    "output_type": "execute_result"
                }
            ],
            "source": "# set number of clusters\nkclusters = 5\n\ntoronto_grouped_clustering = toronto_grouped.drop('Neighborhood', 1)\n\n# run k-means clustering\nkmeans = KMeans(n_clusters=kclusters, random_state=0).fit(toronto_grouped_clustering)\n\n# check cluster labels generated for each row in the dataframe\nkmeans.labels_[0:10] "
        },
        {
            "cell_type": "markdown",
            "metadata": {},
            "source": "### Merging Venues dataframe to k-means clusters "
        },
        {
            "cell_type": "code",
            "execution_count": 21,
            "metadata": {},
            "outputs": [
                {
                    "data": {
                        "text/plain": "(103, 5)"
                    },
                    "execution_count": 21,
                    "metadata": {},
                    "output_type": "execute_result"
                }
            ],
            "source": "Data.dropna\nData.shape"
        },
        {
            "cell_type": "code",
            "execution_count": 22,
            "metadata": {},
            "outputs": [
                {
                    "data": {
                        "text/html": "<div>\n<style scoped>\n    .dataframe tbody tr th:only-of-type {\n        vertical-align: middle;\n    }\n\n    .dataframe tbody tr th {\n        vertical-align: top;\n    }\n\n    .dataframe thead th {\n        text-align: right;\n    }\n</style>\n<table border=\"1\" class=\"dataframe\">\n  <thead>\n    <tr style=\"text-align: right;\">\n      <th></th>\n      <th>PostalCode</th>\n      <th>Borough</th>\n      <th>Neighborhood</th>\n      <th>Latitude</th>\n      <th>Longitude</th>\n      <th>Cluster Labels</th>\n      <th>1st Most Common Venue</th>\n      <th>2nd Most Common Venue</th>\n      <th>3rd Most Common Venue</th>\n      <th>4th Most Common Venue</th>\n      <th>5th Most Common Venue</th>\n    </tr>\n  </thead>\n  <tbody>\n    <tr>\n      <th>0</th>\n      <td>M3A</td>\n      <td>North York</td>\n      <td>Parkwoods</td>\n      <td>43.753259</td>\n      <td>-79.329656</td>\n      <td>0.0</td>\n      <td>Park</td>\n      <td>Fast Food Restaurant</td>\n      <td>Food &amp; Drink Shop</td>\n      <td>Women's Store</td>\n      <td>Distribution Center</td>\n    </tr>\n    <tr>\n      <th>1</th>\n      <td>M4A</td>\n      <td>North York</td>\n      <td>Victoria Village</td>\n      <td>43.725882</td>\n      <td>-79.315572</td>\n      <td>0.0</td>\n      <td>Grocery Store</td>\n      <td>Portuguese Restaurant</td>\n      <td>Nail Salon</td>\n      <td>Hockey Arena</td>\n      <td>Coffee Shop</td>\n    </tr>\n    <tr>\n      <th>2</th>\n      <td>M5A</td>\n      <td>Downtown Toronto</td>\n      <td>Regent Park, Harbourfront</td>\n      <td>43.654260</td>\n      <td>-79.360636</td>\n      <td>0.0</td>\n      <td>Coffee Shop</td>\n      <td>Bakery</td>\n      <td>Park</td>\n      <td>Caf\u00e9</td>\n      <td>Pub</td>\n    </tr>\n    <tr>\n      <th>3</th>\n      <td>M6A</td>\n      <td>North York</td>\n      <td>Lawrence Manor, Lawrence Heights</td>\n      <td>43.718518</td>\n      <td>-79.464763</td>\n      <td>0.0</td>\n      <td>Clothing Store</td>\n      <td>Accessories Store</td>\n      <td>Furniture / Home Store</td>\n      <td>Vietnamese Restaurant</td>\n      <td>Coffee Shop</td>\n    </tr>\n    <tr>\n      <th>4</th>\n      <td>M7A</td>\n      <td>Queen's Park</td>\n      <td>Ontario Provincial Government</td>\n      <td>43.662301</td>\n      <td>-79.389494</td>\n      <td>0.0</td>\n      <td>Coffee Shop</td>\n      <td>Sushi Restaurant</td>\n      <td>Burrito Place</td>\n      <td>Burger Joint</td>\n      <td>Bar</td>\n    </tr>\n  </tbody>\n</table>\n</div>",
                        "text/plain": "  PostalCode           Borough                      Neighborhood   Latitude  \\\n0        M3A        North York                         Parkwoods  43.753259   \n1        M4A        North York                  Victoria Village  43.725882   \n2        M5A  Downtown Toronto         Regent Park, Harbourfront  43.654260   \n3        M6A        North York  Lawrence Manor, Lawrence Heights  43.718518   \n4        M7A      Queen's Park     Ontario Provincial Government  43.662301   \n\n   Longitude  Cluster Labels 1st Most Common Venue  2nd Most Common Venue  \\\n0 -79.329656             0.0                  Park   Fast Food Restaurant   \n1 -79.315572             0.0         Grocery Store  Portuguese Restaurant   \n2 -79.360636             0.0           Coffee Shop                 Bakery   \n3 -79.464763             0.0        Clothing Store      Accessories Store   \n4 -79.389494             0.0           Coffee Shop       Sushi Restaurant   \n\n    3rd Most Common Venue  4th Most Common Venue 5th Most Common Venue  \n0       Food & Drink Shop          Women's Store   Distribution Center  \n1              Nail Salon           Hockey Arena           Coffee Shop  \n2                    Park                   Caf\u00e9                   Pub  \n3  Furniture / Home Store  Vietnamese Restaurant           Coffee Shop  \n4           Burrito Place           Burger Joint                   Bar  "
                    },
                    "execution_count": 22,
                    "metadata": {},
                    "output_type": "execute_result"
                }
            ],
            "source": "neighborhoods_venues_sorted.insert(0, 'Cluster Labels', kmeans.labels_)\n\ntoronto_merged = Data\n\ntoronto_merged = toronto_merged.join(neighborhoods_venues_sorted.set_index('Neighborhood'), on='Neighborhood')\n\ntoronto_merged.head()"
        },
        {
            "cell_type": "code",
            "execution_count": 23,
            "metadata": {},
            "outputs": [
                {
                    "data": {
                        "text/plain": "(103, 11)"
                    },
                    "execution_count": 23,
                    "metadata": {},
                    "output_type": "execute_result"
                }
            ],
            "source": "toronto_merged.shape"
        },
        {
            "cell_type": "markdown",
            "metadata": {},
            "source": "### Data visualization: "
        },
        {
            "cell_type": "code",
            "execution_count": null,
            "metadata": {},
            "outputs": [
                {
                    "name": "stdout",
                    "output_type": "stream",
                    "text": "Collecting package metadata (current_repodata.json): done\nSolving environment: failed with initial frozen solve. Retrying with flexible solve.\nSolving environment: failed with repodata from current_repodata.json, will retry with next repodata source.\nCollecting package metadata (repodata.json): done\nSolving environment: failed with initial frozen solve. Retrying with flexible solve.\nSolving environment: | "
                }
            ],
            "source": "!conda install -c conda-forge geopy --yes "
        },
        {
            "cell_type": "code",
            "execution_count": null,
            "metadata": {},
            "outputs": [],
            "source": "from geopy.geocoders import Nominatim\nimport folium \nimport matplotlib.cm as cm\nimport matplotlib.colors as colors"
        },
        {
            "cell_type": "code",
            "execution_count": null,
            "metadata": {},
            "outputs": [],
            "source": "#Get the coordinates of toronto to initialize de map\naddress = 'Toronto, ON'\n\ngeolocator = Nominatim(user_agent=\"toronto_explorer\")\nlocation = geolocator.geocode(address)\nlatitude = location.latitude\nlongitude = location.longitude\nprint('The geograpical coordinate of Toronto are {}, {}.'.format(latitude, longitude))"
        },
        {
            "cell_type": "code",
            "execution_count": null,
            "metadata": {},
            "outputs": [],
            "source": "#Create the map\nmap_clusters = folium.Map(location=[latitude, longitude], zoom_start=11)\n\n# set color scheme for the clusters\nx = np.arange(kclusters)\nys = [i + x + (i*x)**2 for i in range(kclusters)]\ncolors_array = cm.rainbow(np.linspace(0, 1, len(ys)))\nrainbow = [colors.rgb2hex(i) for i in colors_array]\n\n# add markers to the map\nmarkers_colors = []\nfor lat, lon, poi, cluster in zip(toronto_merged['Latitude'], toronto_merged['Longitude'], toronto_merged['Neighborhood'], toronto_merged['Cluster Labels']):\n    label = folium.Popup(str(poi) + ' Cluster ' + str(cluster), parse_html=True)\n    folium.CircleMarker(\n        [lat, lon],\n        radius=5,\n        popup=label,\n        color=rainbow[cluster-1],\n        fill=True,\n        fill_color=rainbow[cluster-1],\n        fill_opacity=0.7).add_to(map_clusters)\n       \nmap_clusters"
        },
        {
            "cell_type": "markdown",
            "metadata": {},
            "source": "### Examining clusters individually:"
        },
        {
            "cell_type": "code",
            "execution_count": null,
            "metadata": {},
            "outputs": [],
            "source": "toronto_merged.loc[toronto_merged['Cluster Labels'] == 0, toronto_merged.columns[[1] + list(range(5, toronto_merged.shape[1]))]]"
        },
        {
            "cell_type": "code",
            "execution_count": null,
            "metadata": {},
            "outputs": [],
            "source": "toronto_merged.loc[toronto_merged['Cluster Labels'] == 1, toronto_merged.columns[[1] + list(range(5, toronto_merged.shape[1]))]]"
        },
        {
            "cell_type": "code",
            "execution_count": null,
            "metadata": {},
            "outputs": [],
            "source": "toronto_merged.loc[toronto_merged['Cluster Labels'] == 2, toronto_merged.columns[[1] + list(range(5, toronto_merged.shape[1]))]]"
        },
        {
            "cell_type": "code",
            "execution_count": null,
            "metadata": {},
            "outputs": [],
            "source": "toronto_merged.loc[toronto_merged['Cluster Labels'] == 3, toronto_merged.columns[[1] + list(range(5, toronto_merged.shape[1]))]]"
        },
        {
            "cell_type": "code",
            "execution_count": null,
            "metadata": {},
            "outputs": [],
            "source": "toronto_merged.loc[toronto_merged['Cluster Labels'] == 4, toronto_merged.columns[[1] + list(range(5, toronto_merged.shape[1]))]]"
        }
    ],
    "metadata": {
        "kernelspec": {
            "display_name": "Python 3.7",
            "language": "python",
            "name": "python3"
        },
        "language_info": {
            "codemirror_mode": {
                "name": "ipython",
                "version": 3
            },
            "file_extension": ".py",
            "mimetype": "text/x-python",
            "name": "python",
            "nbconvert_exporter": "python",
            "pygments_lexer": "ipython3",
            "version": "3.7.10"
        }
    },
    "nbformat": 4,
    "nbformat_minor": 1
}